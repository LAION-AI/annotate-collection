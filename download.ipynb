{
 "cells": [
  {
   "cell_type": "code",
   "execution_count": 10,
   "metadata": {},
   "outputs": [],
   "source": [
    "from datasets import load_dataset\n",
    "import os\n",
    "\n",
    "ds = load_dataset(\"krishnakalyan3/kolors_v1\", streaming=True)\n",
    "\n",
    "c = 0\n",
    "\n",
    "for example in ds['train']:\n",
    "    # {'index': 0, 'prompt': 'an authentic, realistic closeup photo of a arabic man of 60 years who seems to experience intense spite, sadism, malevolence, malice, desire to harm, schadenfreude. Strong facial expression of spite, sadism, malevolence, malice, desire to harm, schadenfreude.  Realistic photo', 'path': <PIL.PngImagePlugin.PngImageFile image mode=RGB size=1024x1024 at 0x3245371C0>}    \n",
    "    c += 1\n",
    "    \n",
    "    folder_path = f'./projects/stance-detection-part-{7 if c <=250 else 8}/images'\n",
    "    os.makedirs(folder_path, exist_ok=True)\n",
    "    \n",
    "    with open(f'{folder_path}/{example[\"index\"]:03d}.png', 'wb') as f:\n",
    "        img = example['path']\n",
    "        img.save(f)"
   ]
  }
 ],
 "metadata": {
  "kernelspec": {
   "display_name": "base",
   "language": "python",
   "name": "python3"
  },
  "language_info": {
   "codemirror_mode": {
    "name": "ipython",
    "version": 3
   },
   "file_extension": ".py",
   "mimetype": "text/x-python",
   "name": "python",
   "nbconvert_exporter": "python",
   "pygments_lexer": "ipython3",
   "version": "3.8.11"
  }
 },
 "nbformat": 4,
 "nbformat_minor": 2
}
